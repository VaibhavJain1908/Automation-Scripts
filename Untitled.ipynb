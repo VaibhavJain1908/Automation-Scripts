{
 "cells": [
  {
   "cell_type": "code",
   "execution_count": 8,
   "id": "89e63f92",
   "metadata": {},
   "outputs": [],
   "source": [
    "import boto3\n",
    "import time"
   ]
  },
  {
   "cell_type": "code",
   "execution_count": 19,
   "id": "f356c9a9",
   "metadata": {},
   "outputs": [
    {
     "name": "stdout",
     "output_type": "stream",
     "text": [
      "running\n"
     ]
    }
   ],
   "source": [
    "ec2 = boto3.resource('ec2')\n",
    "\n",
    "instance_names = ['SAPMYFIRST']\n",
    "instances = ec2.instances.filter(\n",
    "    Filters = [{  \n",
    "    'Name': 'tag:Name',\n",
    "    'Values': instance_names\n",
    "    }]\n",
    ")\n",
    "\n",
    "for instance in instances:\n",
    "    print(instance.state['Name'])"
   ]
  },
  {
   "cell_type": "code",
   "execution_count": 16,
   "id": "57eff23c",
   "metadata": {},
   "outputs": [
    {
     "name": "stdout",
     "output_type": "stream",
     "text": [
      "running\n"
     ]
    }
   ],
   "source": [
    "instances.\n",
    "for instance in instances:\n",
    "    instance.start()\n",
    "    instance.wait_until_running()\n",
    "    print(instance.state['Name'])"
   ]
  },
  {
   "cell_type": "code",
   "execution_count": 13,
   "id": "4a529dac",
   "metadata": {},
   "outputs": [
    {
     "name": "stdout",
     "output_type": "stream",
     "text": [
      "stopped\n"
     ]
    }
   ],
   "source": [
    "for instance in instances:\n",
    "    while instance.state['Name'] != \"stopped\":\n",
    "        time.sleep(5)\n",
    "    print(instance.state['Name'])"
   ]
  },
  {
   "cell_type": "code",
   "execution_count": 22,
   "id": "2c4ac102",
   "metadata": {},
   "outputs": [
    {
     "name": "stdout",
     "output_type": "stream",
     "text": [
      "SAPMYFIRST\n"
     ]
    }
   ],
   "source": [
    "for instance in instances:\n",
    "    for tag in instance.tags:\n",
    "        if tag['Key'] == 'Name':\n",
    "            print(tag['Value'])"
   ]
  },
  {
   "cell_type": "code",
   "execution_count": 24,
   "id": "eae24214",
   "metadata": {},
   "outputs": [
    {
     "data": {
      "text/plain": [
       "[{'StartingInstances': [{'CurrentState': {'Code': 0, 'Name': 'pending'},\n",
       "    'InstanceId': 'i-066c24523b333f839',\n",
       "    'PreviousState': {'Code': 80, 'Name': 'stopped'}}],\n",
       "  'ResponseMetadata': {'RequestId': 'd265608e-e5b9-42fa-bc86-b5f0c1319fa3',\n",
       "   'HTTPStatusCode': 200,\n",
       "   'HTTPHeaders': {'x-amzn-requestid': 'd265608e-e5b9-42fa-bc86-b5f0c1319fa3',\n",
       "    'cache-control': 'no-cache, no-store',\n",
       "    'strict-transport-security': 'max-age=31536000; includeSubDomains',\n",
       "    'content-type': 'text/xml;charset=UTF-8',\n",
       "    'content-length': '579',\n",
       "    'date': 'Tue, 26 Apr 2022 15:15:59 GMT',\n",
       "    'server': 'AmazonEC2'},\n",
       "   'RetryAttempts': 0}}]"
      ]
     },
     "execution_count": 24,
     "metadata": {},
     "output_type": "execute_result"
    }
   ],
   "source": [
    "instances.start()"
   ]
  },
  {
   "cell_type": "code",
   "execution_count": null,
   "id": "cfbb9aba",
   "metadata": {},
   "outputs": [],
   "source": []
  }
 ],
 "metadata": {
  "kernelspec": {
   "display_name": "Python 3 (ipykernel)",
   "language": "python",
   "name": "python3"
  },
  "language_info": {
   "codemirror_mode": {
    "name": "ipython",
    "version": 3
   },
   "file_extension": ".py",
   "mimetype": "text/x-python",
   "name": "python",
   "nbconvert_exporter": "python",
   "pygments_lexer": "ipython3",
   "version": "3.9.7"
  }
 },
 "nbformat": 4,
 "nbformat_minor": 5
}
